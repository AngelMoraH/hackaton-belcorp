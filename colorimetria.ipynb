{
  "nbformat": 4,
  "nbformat_minor": 0,
  "metadata": {
    "colab": {
      "provenance": [],
      "gpuType": "T4"
    },
    "kernelspec": {
      "name": "python3",
      "display_name": "Python 3"
    },
    "language_info": {
      "name": "python"
    },
    "accelerator": "GPU"
  },
  "cells": [
    {
      "cell_type": "code",
      "source": [
        "!pip install joblib\n"
      ],
      "metadata": {
        "colab": {
          "base_uri": "https://localhost:8080/"
        },
        "id": "1FIwQf2kg2dn",
        "outputId": "528b73f8-36f2-42af-ec75-5ef1d74ef560"
      },
      "execution_count": 90,
      "outputs": [
        {
          "output_type": "stream",
          "name": "stdout",
          "text": [
            "Requirement already satisfied: joblib in /usr/local/lib/python3.10/dist-packages (1.4.2)\n"
          ]
        }
      ]
    },
    {
      "cell_type": "markdown",
      "source": [
        "descomposición de imagenes  para que el modelo funcione con los colores carácterisitcos de cada imagen y asi poder realizar su trainig y despues proseguir con su test. Para terminar el modelo s eguarda en un pkl, par apoder usarlo despues."
      ],
      "metadata": {
        "id": "AHswFCwSpGuv"
      }
    },
    {
      "cell_type": "code",
      "source": [
        "import os\n",
        "import cv2\n",
        "import numpy as np\n",
        "from sklearn.cluster import KMeans\n",
        "from sklearn.model_selection import train_test_split\n",
        "from sklearn.ensemble import RandomForestClassifier\n",
        "from sklearn.metrics import classification_report\n",
        "import matplotlib.pyplot as plt\n",
        "import joblib\n",
        "\n",
        "def extract_colors(image, num_colors=4):\n",
        "    image = cv2.cvtColor(image, cv2.COLOR_BGR2RGB)\n",
        "    image = image.reshape((image.shape[0] * image.shape[1], 3))\n",
        "\n",
        "    kmeans = KMeans(n_clusters=num_colors)\n",
        "    kmeans.fit(image)\n",
        "\n",
        "    colors = kmeans.cluster_centers_.astype(int)\n",
        "    return colors.flatten()\n",
        "\n",
        "def load_data(base_path):\n",
        "    X, y = [], []\n",
        "    for season in os.listdir(base_path):\n",
        "        season_path = os.path.join(base_path, season)\n",
        "        if os.path.isdir(season_path):\n",
        "            for img_name in os.listdir(season_path):\n",
        "                img_path = os.path.join(season_path, img_name)\n",
        "                image = cv2.imread(img_path)\n",
        "                if image is not None:\n",
        "                    image = cv2.resize(image, (100, 100))\n",
        "                    colors = extract_colors(image, num_colors=4)\n",
        "                    X.append(colors)\n",
        "                    y.append(season)\n",
        "    return np.array(X), np.array(y)\n",
        "\n",
        "base_path = 'train'\n",
        "X, y = load_data(base_path)\n",
        "\n",
        "X_train, X_test, y_train, y_test = train_test_split(X, y, test_size=0.2, random_state=42)\n",
        "\n",
        "model = RandomForestClassifier(n_estimators=100, random_state=42)\n",
        "model.fit(X_train, y_train)\n",
        "\n",
        "y_pred = model.predict(X_test)\n",
        "print(classification_report(y_test, y_pred))\n",
        "joblib.dump(model, 'model_colorimetria.pkl')\n"
      ],
      "metadata": {
        "colab": {
          "base_uri": "https://localhost:8080/"
        },
        "id": "Z7Yhw5NgWgFb",
        "outputId": "ff1b4de9-5d91-4a7a-ec58-a4151bb5591d"
      },
      "execution_count": 99,
      "outputs": [
        {
          "output_type": "stream",
          "name": "stdout",
          "text": [
            "              precision    recall  f1-score   support\n",
            "\n",
            "    invierno       0.44      0.67      0.53         6\n",
            "       otono       0.50      0.40      0.44         5\n",
            "   primavera       1.00      0.33      0.50         6\n",
            "      verano       0.20      0.33      0.25         3\n",
            "\n",
            "    accuracy                           0.45        20\n",
            "   macro avg       0.54      0.43      0.43        20\n",
            "weighted avg       0.59      0.45      0.46        20\n",
            "\n"
          ]
        },
        {
          "output_type": "execute_result",
          "data": {
            "text/plain": [
              "['model_colorimetria.pkl']"
            ]
          },
          "metadata": {},
          "execution_count": 99
        }
      ]
    },
    {
      "cell_type": "markdown",
      "source": [
        "de est forma se realiza una pequeña muestra del modelo, obtendieno adicionalemnte los colores mas recomendados dependiendo del tipo de colorimetría que posee."
      ],
      "metadata": {
        "id": "tuFWRy47phQn"
      }
    },
    {
      "cell_type": "code",
      "source": [
        "import joblib\n",
        "import cv2\n",
        "import numpy as np\n",
        "import matplotlib.pyplot as plt\n",
        "\n",
        "def extract_colors(image, num_colors=4):\n",
        "    image = cv2.cvtColor(image, cv2.COLOR_BGR2RGB)\n",
        "    image = image.reshape((image.shape[0] * image.shape[1], 3))\n",
        "\n",
        "    kmeans = KMeans(n_clusters=num_colors, random_state=42)\n",
        "    kmeans.fit(image)\n",
        "\n",
        "    colors = kmeans.cluster_centers_.astype(int)\n",
        "    return colors.flatten()\n",
        "\n",
        "def plot_colors(image):\n",
        "    colors = extract_colors(image)\n",
        "    colors = colors.reshape(-1, 1, 3)\n",
        "    plt.figure(figsize=(8, 6))\n",
        "    plt.imshow(colors.astype(int))\n",
        "    plt.axis('off')\n",
        "    plt.show()\n",
        "\n",
        "def predict_season(image, model):\n",
        "    colors = extract_colors(image, num_colors=4)\n",
        "    colors = colors.reshape(1, -1)\n",
        "    prediction = model.predict(colors)\n",
        "    return prediction[0]\n",
        "\n",
        "def get_hex_colors(season):\n",
        "    colors = {\n",
        "        'invierno': ['#000000', '#FFFFFF', '#FF00FF', '#8B0000', '#00FFFF', '#C0C0C0'],  # Negro, blanco, fucsia, rojo oscuro, cian, plata\n",
        "        'verano': ['#FFD700', '#FF69B4', '#87CEEB', '#D3D3D3', '#00BFFF', '#F0E68C'],    # Amarillo pálido, fucsia, azul cielo, gris claro, azul profundo, caqui\n",
        "        'primavera': ['#FF4500', '#FFDAB9', '#FFFF00', '#7FFFD4', '#FF6347', '#98FB98'],  # Rojo anaranjado, melocotón, amarillo, aqua, tomate, verde claro\n",
        "        'otoño': ['#8B4513', '#CD5C5C', '#FFA500', '#FFE4B5', '#A0522D', '#8FBC8F']        # Marrón, rojo, naranja, beige, marrón claro, verde mar\n",
        "    }\n",
        "    return colors.get(season.lower(), [])\n",
        "\n",
        "model = joblib.load('model_colorimetria.pkl')\n",
        "\n",
        "example_image = cv2.imread('nuevo12.jpg')\n",
        "if example_image is not None:\n",
        "   # for _ in range(5):\n",
        "        predicted_season = predict_season(example_image, model)\n",
        "        print(f\"La imagen es de la estación: {predicted_season}\")\n",
        "        hex_colors = get_hex_colors(predicted_season)\n",
        "        print(f\"Colores en formato hexadecimal para {predicted_season}: {hex_colors}\")\n",
        "  #  plot_colors(example_image)\n",
        "else:\n",
        "    print(\"Error al cargar la imagen.\")\n"
      ],
      "metadata": {
        "colab": {
          "base_uri": "https://localhost:8080/"
        },
        "id": "SKeYNwUFgon_",
        "outputId": "a40bec63-3135-4405-dce3-1d706a92664f"
      },
      "execution_count": 113,
      "outputs": [
        {
          "output_type": "stream",
          "name": "stdout",
          "text": [
            "La imagen es de la estación: invierno\n",
            "Colores en formato hexadecimal para invierno: ['#000000', '#FFFFFF', '#FF00FF', '#8B0000', '#00FFFF', '#C0C0C0']\n"
          ]
        }
      ]
    }
  ]
}